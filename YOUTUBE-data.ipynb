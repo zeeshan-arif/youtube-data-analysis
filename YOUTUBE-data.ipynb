{
 "cells": [
  {
   "cell_type": "code",
   "execution_count": 1,
   "metadata": {},
   "outputs": [
    {
     "data": {
      "text/plain": [
       "True"
      ]
     },
     "execution_count": 1,
     "metadata": {},
     "output_type": "execute_result"
    }
   ],
   "source": [
    "from dotenv import load_dotenv\n",
    "\n",
    "load_dotenv()"
   ]
  },
  {
   "cell_type": "code",
   "execution_count": 2,
   "metadata": {},
   "outputs": [],
   "source": [
    "import requests\n",
    "import pandas as pd\n",
    "import time"
   ]
  },
  {
   "cell_type": "code",
   "execution_count": 3,
   "metadata": {},
   "outputs": [],
   "source": [
    "import os"
   ]
  },
  {
   "cell_type": "code",
   "execution_count": 4,
   "metadata": {},
   "outputs": [],
   "source": [
    "# youtube api-key\n",
    "API_KEY = os.getenv(\"API_KEY\")\n",
    "\n",
    "CHANNEL_ID = os.getenv(\"CHANNEL_ID\") # we can change it later"
   ]
  },
  {
   "cell_type": "code",
   "execution_count": 5,
   "metadata": {},
   "outputs": [],
   "source": [
    "# api calling\n",
    "\n",
    "pageToken = \"\"\n",
    "url = \"https://www.googleapis.com/youtube/v3/search?key=\"+API_KEY+\"&channelId=\"+CHANNEL_ID+\"&part=snippet,id&order=date&maxResults=10000\"+pageToken\n",
    "\n",
    "response = requests.get(url).json()"
   ]
  },
  {
   "cell_type": "markdown",
   "metadata": {},
   "source": [
    "Below are the details about first video. Like videoId, title, description, thumbnail(url height width), published time etc."
   ]
  },
  {
   "cell_type": "code",
   "execution_count": 6,
   "metadata": {},
   "outputs": [
    {
     "data": {
      "text/plain": [
       "{'kind': 'youtube#searchResult',\n",
       " 'etag': 'N34MypANAoLO33TMw01fIaN9d_I',\n",
       " 'id': {'kind': 'youtube#video', 'videoId': 'Av92CaPTRr8'},\n",
       " 'snippet': {'publishedAt': '2022-03-02T09:35:11Z',\n",
       "  'channelId': 'UCW8Ews7tdKKkBT6GdtQaXvQ',\n",
       "  'title': 'How to use SQL window functions: RANK vs DENSE_RANK in Data Science Interviews',\n",
       "  'description': \"This video covers two of the most common SQL Rank Functions, their differences, and how to use them. We'll take the following ...\",\n",
       "  'thumbnails': {'default': {'url': 'https://i.ytimg.com/vi/Av92CaPTRr8/default.jpg',\n",
       "    'width': 120,\n",
       "    'height': 90},\n",
       "   'medium': {'url': 'https://i.ytimg.com/vi/Av92CaPTRr8/mqdefault.jpg',\n",
       "    'width': 320,\n",
       "    'height': 180},\n",
       "   'high': {'url': 'https://i.ytimg.com/vi/Av92CaPTRr8/hqdefault.jpg',\n",
       "    'width': 480,\n",
       "    'height': 360}},\n",
       "  'channelTitle': 'StrataScratch',\n",
       "  'liveBroadcastContent': 'none',\n",
       "  'publishTime': '2022-03-02T09:35:11Z'}}"
      ]
     },
     "execution_count": 6,
     "metadata": {},
     "output_type": "execute_result"
    }
   ],
   "source": [
    "response['items'][0]"
   ]
  },
  {
   "cell_type": "code",
   "execution_count": 7,
   "metadata": {},
   "outputs": [
    {
     "data": {
      "text/plain": [
       "'Av92CaPTRr8'"
      ]
     },
     "execution_count": 7,
     "metadata": {},
     "output_type": "execute_result"
    }
   ],
   "source": [
    "# grab the video ID\n",
    "\n",
    "video_id = response['items'][0]['id']['videoId']\n",
    "video_id"
   ]
  },
  {
   "cell_type": "code",
   "execution_count": 8,
   "metadata": {},
   "outputs": [
    {
     "data": {
      "text/plain": [
       "'How to use SQL window functions: RANK vs DENSE_RANK in Data Science Interviews'"
      ]
     },
     "execution_count": 8,
     "metadata": {},
     "output_type": "execute_result"
    }
   ],
   "source": [
    "# grab the video Title\n",
    "\n",
    "video_title = response['items'][0]['snippet']['title']\n",
    "video_title"
   ]
  },
  {
   "cell_type": "code",
   "execution_count": 9,
   "metadata": {},
   "outputs": [
    {
     "data": {
      "text/plain": [
       "'How to use SQL window functions: RANK vs DENSE_RANK in Data Science Interviews'"
      ]
     },
     "execution_count": 9,
     "metadata": {},
     "output_type": "execute_result"
    }
   ],
   "source": [
    "video_title = str(video_title).replace(\"|\", \"\")\n",
    "video_title"
   ]
  },
  {
   "cell_type": "code",
   "execution_count": 10,
   "metadata": {},
   "outputs": [
    {
     "data": {
      "text/plain": [
       "'2022-03-02T09:35:11Z'"
      ]
     },
     "execution_count": 10,
     "metadata": {},
     "output_type": "execute_result"
    }
   ],
   "source": [
    "# grab the uploaded time\n",
    "\n",
    "upload_date = response['items'][0]['snippet']['publishedAt']\n",
    "upload_date"
   ]
  },
  {
   "cell_type": "markdown",
   "metadata": {},
   "source": [
    "Now we did all this for a single instance. But we need to grab all videos related data. So we will use for loop to grab every video. But we also need to grab statistics related to each video.\n",
    "\n",
    "We can make another api call to get statistics related to a particular ID"
   ]
  },
  {
   "cell_type": "code",
   "execution_count": 11,
   "metadata": {},
   "outputs": [],
   "source": [
    "# make another api call this time to get video statistics\n",
    "\n",
    "url_video_stats = \"https://www.googleapis.com/youtube/v3/videos?id=\"+video_id+\"&part=statistics&key=\"+API_KEY\n",
    "\n",
    "response_video_stats = requests.get(url_video_stats).json()"
   ]
  },
  {
   "cell_type": "code",
   "execution_count": 12,
   "metadata": {},
   "outputs": [
    {
     "data": {
      "text/plain": [
       "{'kind': 'youtube#videoListResponse',\n",
       " 'etag': '5nS0V-JX4uWCpgDJsRtSszG78og',\n",
       " 'items': [{'kind': 'youtube#video',\n",
       "   'etag': 'PHwU6eju1wvykY2JY03r8yB-r9s',\n",
       "   'id': 'Av92CaPTRr8',\n",
       "   'statistics': {'viewCount': '794',\n",
       "    'likeCount': '39',\n",
       "    'favoriteCount': '0',\n",
       "    'commentCount': '6'}}],\n",
       " 'pageInfo': {'totalResults': 1, 'resultsPerPage': 1}}"
      ]
     },
     "execution_count": 12,
     "metadata": {},
     "output_type": "execute_result"
    }
   ],
   "source": [
    "response_video_stats"
   ]
  },
  {
   "cell_type": "code",
   "execution_count": 13,
   "metadata": {},
   "outputs": [],
   "source": [
    "view_count = response_video_stats['items'][0]['statistics']['viewCount']\n",
    "like_count = response_video_stats['items'][0]['statistics']['likeCount']\n",
    "favorite_count = response_video_stats['items'][0]['statistics']['favoriteCount']\n",
    "comment_count = response_video_stats['items'][0]['statistics']['commentCount']"
   ]
  },
  {
   "cell_type": "code",
   "execution_count": null,
   "metadata": {},
   "outputs": [],
   "source": []
  },
  {
   "cell_type": "markdown",
   "metadata": {},
   "source": [
    "Since we are collecting statistics related to each video in variables. We can instead create a dataframe and store each variable values in columns. That would lead us to 7 columns in dataframe."
   ]
  },
  {
   "cell_type": "code",
   "execution_count": 14,
   "metadata": {},
   "outputs": [],
   "source": [
    "# calling this function to collect content details of each video\n",
    "\n",
    "def get_contentDetails_video_data(video_id):\n",
    "    url = f\"https://www.googleapis.com/youtube/v3/videos?part=contentDetails&id={video_id}&key={API_KEY}\"\n",
    "    video_data = requests.get(url).json()\n",
    "    try:\n",
    "        data = video_data['items'][0]['contentDetails']\n",
    "        duration = data['duration']\n",
    "        definition = data['definition']\n",
    "        caption = data['caption']\n",
    "    except:\n",
    "        print('error')\n",
    "        data = None\n",
    "        duration = None\n",
    "        definition = None\n",
    "        caption = None\n",
    "    \n",
    "    return duration, definition, caption"
   ]
  },
  {
   "cell_type": "code",
   "execution_count": 15,
   "metadata": {},
   "outputs": [],
   "source": [
    "# calling this function to collect snippet data of each video\n",
    "\n",
    "def get_snippet_video_data(video_id):\n",
    "    url = f\"https://www.googleapis.com/youtube/v3/videos?part=snippet&id={video_id}&key={API_KEY}\"\n",
    "    single_video_data = requests.get(url).json()\n",
    "    try:\n",
    "        data = single_video_data['items'][0]['snippet']\n",
    "        publishedAt = data['publishedAt']\n",
    "        title = data['title']\n",
    "        description = data['description']\n",
    "        channelTitle = data['channelTitle']\n",
    "    except:\n",
    "        print(\"error\")\n",
    "        data = None\n",
    "        publishedAt = None\n",
    "        title = None\n",
    "        description = None\n",
    "        channelTitle = None\n",
    "    \n",
    "    return publishedAt, title, description, channelTitle"
   ]
  },
  {
   "cell_type": "code",
   "execution_count": 16,
   "metadata": {},
   "outputs": [],
   "source": [
    "# calling this function to collect each video stat\n",
    "\n",
    "def get_video_details(video_id):\n",
    "    \n",
    "    # collect video statistics\n",
    "    url_video_stats = \"https://www.googleapis.com/youtube/v3/videos?id=\"+video_id+\"&part=statistics&key=\"+API_KEY\n",
    "\n",
    "    response_video_stats = requests.get(url_video_stats).json()\n",
    "        \n",
    "    view_count = response_video_stats['items'][0]['statistics']['viewCount']\n",
    "    like_count = response_video_stats['items'][0]['statistics']['likeCount']\n",
    "    favorite_count = response_video_stats['items'][0]['statistics']['favoriteCount']\n",
    "    comment_count = response_video_stats['items'][0]['statistics']['commentCount']\n",
    "    \n",
    "    return view_count, like_count, favorite_count, comment_count"
   ]
  },
  {
   "cell_type": "code",
   "execution_count": 26,
   "metadata": {
    "scrolled": true
   },
   "outputs": [],
   "source": [
    "def get_videos(data):\n",
    "    \n",
    "    # make api call\n",
    "    #pageToken = \"\"\n",
    "    url = \"https://www.googleapis.com/youtube/v3/search?key=\"+API_KEY+\"&channelId=\"+CHANNEL_ID+\"&part=snippet,id&order=date&maxResults=10000\"\n",
    "    response = requests.get(url).json()\n",
    "    time.sleep(1)\n",
    "    \n",
    "    items_list = response['items']\n",
    "    #print(items_list)\n",
    "    \n",
    "    for video in items_list:\n",
    "\n",
    "        if video['id']['kind'] == 'youtube#video':\n",
    "\n",
    "            video_id = video['id']['videoId']\n",
    "            video_title = video['snippet']['title']\n",
    "            upload_date = video['snippet']['publishedAt']\n",
    "\n",
    "            duration, definition, caption = get_contentDetails_video_data(video_id)\n",
    "            publishedAt, title, description, channelTitle = get_snippet_video_data(video_id)\n",
    "            view_count, like_count, favorite_count, comment_count = get_video_details(video_id)\n",
    "\n",
    "            # append each video related data in a dataframe\n",
    "            data = data.append(\n",
    "                {\n",
    "                    'video_id': video_id,\n",
    "                    'video_title': video_title,\n",
    "                    'upload_date': upload_date,\n",
    "                    'duration': duration,\n",
    "                    'definition': definition,\n",
    "                    'caption': caption,\n",
    "                    'publishedAt': publishedAt,\n",
    "                    'title': title,\n",
    "                    'description': description,\n",
    "                    'channelTitle': channelTitle,\n",
    "                    'view_count': view_count,\n",
    "                    'like_count': like_count,\n",
    "                    'favorite_count': favorite_count,\n",
    "                    'comment_count': comment_count\n",
    "                }, ignore_index=True\n",
    "            )\n",
    "            \n",
    "    next_page_token = response.get('nextPageToken')\n",
    "    more_pages = True\n",
    "    \n",
    "    while more_pages:\n",
    "        if next_page_token is None:\n",
    "            more_pages = False\n",
    "        else:\n",
    "            pageToken = next_page_token\n",
    "            new_url = \"https://www.googleapis.com/youtube/v3/search?key=\"+API_KEY+\"&channelId=\"+CHANNEL_ID+\"&part=snippet,id&order=date&maxResults=10000&pageToken=\"+pageToken\n",
    "            response_new = requests.get(new_url).json()\n",
    "            \n",
    "            items_list_2 = response_new['items']\n",
    "            for video in items_list_2:\n",
    "                if video['id']['kind'] == 'youtube#video':\n",
    "\n",
    "                    video_id = video['id']['videoId']\n",
    "                    video_title = video['snippet']['title']\n",
    "                    upload_date = video['snippet']['publishedAt']\n",
    "\n",
    "                    duration, definition, caption = get_contentDetails_video_data(video_id)\n",
    "                    publishedAt, title, description, channelTitle = get_snippet_video_data(video_id)\n",
    "                    view_count, like_count, favorite_count, comment_count = get_video_details(video_id)\n",
    "\n",
    "                    # append each video related data in a dataframe\n",
    "                    data = data.append(\n",
    "                        {\n",
    "                            'video_id': video_id,\n",
    "                            'video_title': video_title,\n",
    "                            'upload_date': upload_date,\n",
    "                            'duration': duration,\n",
    "                            'definition': definition,\n",
    "                            'caption': caption,\n",
    "                            'publishedAt': publishedAt,\n",
    "                            'title': title,\n",
    "                            'description': description,\n",
    "                            'channelTitle': channelTitle,\n",
    "                            'view_count': view_count,\n",
    "                            'like_count': like_count,\n",
    "                            'favorite_count': favorite_count,\n",
    "                            'comment_count': comment_count\n",
    "                        }, ignore_index=True\n",
    "                    )\n",
    "                next_page_token = response_new.get('nextPageToken')\n",
    "    return data"
   ]
  },
  {
   "cell_type": "code",
   "execution_count": 24,
   "metadata": {},
   "outputs": [],
   "source": [
    "#get_videos(data)"
   ]
  },
  {
   "cell_type": "code",
   "execution_count": 27,
   "metadata": {},
   "outputs": [],
   "source": [
    "# create empty dataframe\n",
    "\n",
    "data = pd.DataFrame(columns=[\"video_id\", \"video_title\", \"upload_date\", \"view_count\", \"like_count\", \"favorite_count\", \"comment_count\"])\n",
    "\n",
    "data = get_videos(data)"
   ]
  },
  {
   "cell_type": "code",
   "execution_count": 32,
   "metadata": {},
   "outputs": [
    {
     "data": {
      "text/html": [
       "<div>\n",
       "<style scoped>\n",
       "    .dataframe tbody tr th:only-of-type {\n",
       "        vertical-align: middle;\n",
       "    }\n",
       "\n",
       "    .dataframe tbody tr th {\n",
       "        vertical-align: top;\n",
       "    }\n",
       "\n",
       "    .dataframe thead th {\n",
       "        text-align: right;\n",
       "    }\n",
       "</style>\n",
       "<table border=\"1\" class=\"dataframe\">\n",
       "  <thead>\n",
       "    <tr style=\"text-align: right;\">\n",
       "      <th></th>\n",
       "      <th>video_id</th>\n",
       "      <th>video_title</th>\n",
       "      <th>upload_date</th>\n",
       "      <th>view_count</th>\n",
       "      <th>like_count</th>\n",
       "      <th>favorite_count</th>\n",
       "      <th>comment_count</th>\n",
       "      <th>caption</th>\n",
       "      <th>channelTitle</th>\n",
       "      <th>definition</th>\n",
       "      <th>description</th>\n",
       "      <th>duration</th>\n",
       "      <th>publishedAt</th>\n",
       "      <th>title</th>\n",
       "    </tr>\n",
       "  </thead>\n",
       "  <tbody>\n",
       "    <tr>\n",
       "      <th>0</th>\n",
       "      <td>Av92CaPTRr8</td>\n",
       "      <td>How to use SQL window functions: RANK vs DENSE...</td>\n",
       "      <td>2022-03-02T09:35:11Z</td>\n",
       "      <td>799</td>\n",
       "      <td>39</td>\n",
       "      <td>0</td>\n",
       "      <td>6</td>\n",
       "      <td>false</td>\n",
       "      <td>StrataScratch</td>\n",
       "      <td>hd</td>\n",
       "      <td>This video covers two of the most common SQL R...</td>\n",
       "      <td>PT10M39S</td>\n",
       "      <td>2022-03-02T09:35:11Z</td>\n",
       "      <td>How to use SQL window functions: RANK vs DENSE...</td>\n",
       "    </tr>\n",
       "    <tr>\n",
       "      <th>1</th>\n",
       "      <td>VEjxlKBkZGM</td>\n",
       "      <td>Amazon Data Science Interview Question Walkthr...</td>\n",
       "      <td>2022-02-08T03:13:06Z</td>\n",
       "      <td>4743</td>\n",
       "      <td>164</td>\n",
       "      <td>0</td>\n",
       "      <td>16</td>\n",
       "      <td>false</td>\n",
       "      <td>StrataScratch</td>\n",
       "      <td>hd</td>\n",
       "      <td>This walkthrough has been requested by multipl...</td>\n",
       "      <td>PT32M33S</td>\n",
       "      <td>2022-02-08T03:13:06Z</td>\n",
       "      <td>Amazon Data Science Interview Question Walkthr...</td>\n",
       "    </tr>\n",
       "    <tr>\n",
       "      <th>2</th>\n",
       "      <td>hMUf7DqG1nQ</td>\n",
       "      <td>SQL Basics: How to Join Multiple Tables in SQL...</td>\n",
       "      <td>2022-01-27T06:23:05Z</td>\n",
       "      <td>2750</td>\n",
       "      <td>85</td>\n",
       "      <td>0</td>\n",
       "      <td>5</td>\n",
       "      <td>false</td>\n",
       "      <td>StrataScratch</td>\n",
       "      <td>hd</td>\n",
       "      <td>In this video, We will show you how to join mu...</td>\n",
       "      <td>PT7M49S</td>\n",
       "      <td>2022-01-27T06:23:05Z</td>\n",
       "      <td>SQL Basics: How to Join Multiple Tables in SQL...</td>\n",
       "    </tr>\n",
       "    <tr>\n",
       "      <th>3</th>\n",
       "      <td>ToEl_tpyoM4</td>\n",
       "      <td>Uber Data Science Python Interview Question Wa...</td>\n",
       "      <td>2022-01-10T05:46:03Z</td>\n",
       "      <td>16976</td>\n",
       "      <td>435</td>\n",
       "      <td>0</td>\n",
       "      <td>23</td>\n",
       "      <td>false</td>\n",
       "      <td>StrataScratch</td>\n",
       "      <td>hd</td>\n",
       "      <td>In this video, we will take a close look at a ...</td>\n",
       "      <td>PT30M25S</td>\n",
       "      <td>2022-01-10T05:46:03Z</td>\n",
       "      <td>Uber Data Science Python Interview Question Wa...</td>\n",
       "    </tr>\n",
       "    <tr>\n",
       "      <th>4</th>\n",
       "      <td>30hS-MjpU6E</td>\n",
       "      <td>SQL Syntax Best Practices: How to Structure Yo...</td>\n",
       "      <td>2021-12-22T03:32:13Z</td>\n",
       "      <td>8483</td>\n",
       "      <td>391</td>\n",
       "      <td>0</td>\n",
       "      <td>42</td>\n",
       "      <td>false</td>\n",
       "      <td>StrataScratch</td>\n",
       "      <td>hd</td>\n",
       "      <td>SQL is not just about writing queries, you als...</td>\n",
       "      <td>PT16M35S</td>\n",
       "      <td>2021-12-22T03:32:13Z</td>\n",
       "      <td>SQL Syntax Best Practices: How to Structure Yo...</td>\n",
       "    </tr>\n",
       "  </tbody>\n",
       "</table>\n",
       "</div>"
      ],
      "text/plain": [
       "      video_id                                        video_title  \\\n",
       "0  Av92CaPTRr8  How to use SQL window functions: RANK vs DENSE...   \n",
       "1  VEjxlKBkZGM  Amazon Data Science Interview Question Walkthr...   \n",
       "2  hMUf7DqG1nQ  SQL Basics: How to Join Multiple Tables in SQL...   \n",
       "3  ToEl_tpyoM4  Uber Data Science Python Interview Question Wa...   \n",
       "4  30hS-MjpU6E  SQL Syntax Best Practices: How to Structure Yo...   \n",
       "\n",
       "            upload_date view_count like_count favorite_count comment_count  \\\n",
       "0  2022-03-02T09:35:11Z        799         39              0             6   \n",
       "1  2022-02-08T03:13:06Z       4743        164              0            16   \n",
       "2  2022-01-27T06:23:05Z       2750         85              0             5   \n",
       "3  2022-01-10T05:46:03Z      16976        435              0            23   \n",
       "4  2021-12-22T03:32:13Z       8483        391              0            42   \n",
       "\n",
       "  caption   channelTitle definition  \\\n",
       "0   false  StrataScratch         hd   \n",
       "1   false  StrataScratch         hd   \n",
       "2   false  StrataScratch         hd   \n",
       "3   false  StrataScratch         hd   \n",
       "4   false  StrataScratch         hd   \n",
       "\n",
       "                                         description  duration  \\\n",
       "0  This video covers two of the most common SQL R...  PT10M39S   \n",
       "1  This walkthrough has been requested by multipl...  PT32M33S   \n",
       "2  In this video, We will show you how to join mu...   PT7M49S   \n",
       "3  In this video, we will take a close look at a ...  PT30M25S   \n",
       "4  SQL is not just about writing queries, you als...  PT16M35S   \n",
       "\n",
       "            publishedAt                                              title  \n",
       "0  2022-03-02T09:35:11Z  How to use SQL window functions: RANK vs DENSE...  \n",
       "1  2022-02-08T03:13:06Z  Amazon Data Science Interview Question Walkthr...  \n",
       "2  2022-01-27T06:23:05Z  SQL Basics: How to Join Multiple Tables in SQL...  \n",
       "3  2022-01-10T05:46:03Z  Uber Data Science Python Interview Question Wa...  \n",
       "4  2021-12-22T03:32:13Z  SQL Syntax Best Practices: How to Structure Yo...  "
      ]
     },
     "execution_count": 32,
     "metadata": {},
     "output_type": "execute_result"
    }
   ],
   "source": [
    "data.head()"
   ]
  },
  {
   "cell_type": "code",
   "execution_count": 31,
   "metadata": {},
   "outputs": [
    {
     "data": {
      "text/html": [
       "<div>\n",
       "<style scoped>\n",
       "    .dataframe tbody tr th:only-of-type {\n",
       "        vertical-align: middle;\n",
       "    }\n",
       "\n",
       "    .dataframe tbody tr th {\n",
       "        vertical-align: top;\n",
       "    }\n",
       "\n",
       "    .dataframe thead th {\n",
       "        text-align: right;\n",
       "    }\n",
       "</style>\n",
       "<table border=\"1\" class=\"dataframe\">\n",
       "  <thead>\n",
       "    <tr style=\"text-align: right;\">\n",
       "      <th></th>\n",
       "      <th>video_id</th>\n",
       "      <th>video_title</th>\n",
       "      <th>upload_date</th>\n",
       "      <th>view_count</th>\n",
       "      <th>like_count</th>\n",
       "      <th>favorite_count</th>\n",
       "      <th>comment_count</th>\n",
       "      <th>caption</th>\n",
       "      <th>channelTitle</th>\n",
       "      <th>definition</th>\n",
       "      <th>description</th>\n",
       "      <th>duration</th>\n",
       "      <th>publishedAt</th>\n",
       "      <th>title</th>\n",
       "    </tr>\n",
       "  </thead>\n",
       "  <tbody>\n",
       "    <tr>\n",
       "      <th>78</th>\n",
       "      <td>UX4_IgagL9I</td>\n",
       "      <td>How to Use Google Colaboratory | Import a CSV ...</td>\n",
       "      <td>2020-05-02T15:29:16Z</td>\n",
       "      <td>1911</td>\n",
       "      <td>12</td>\n",
       "      <td>0</td>\n",
       "      <td>2</td>\n",
       "      <td>false</td>\n",
       "      <td>StrataScratch</td>\n",
       "      <td>hd</td>\n",
       "      <td>In this video, I'll show you how to use Google...</td>\n",
       "      <td>PT8M34S</td>\n",
       "      <td>2020-05-02T15:29:16Z</td>\n",
       "      <td>How to Use Google Colaboratory | Import a CSV ...</td>\n",
       "    </tr>\n",
       "    <tr>\n",
       "      <th>79</th>\n",
       "      <td>tDdo3FiWpgE</td>\n",
       "      <td>Interview Questions for SQL Joins and Subqueries</td>\n",
       "      <td>2020-02-01T04:00:28Z</td>\n",
       "      <td>1187</td>\n",
       "      <td>20</td>\n",
       "      <td>0</td>\n",
       "      <td>0</td>\n",
       "      <td>false</td>\n",
       "      <td>StrataScratch</td>\n",
       "      <td>hd</td>\n",
       "      <td>We are back with a video on SQL Joins and Subq...</td>\n",
       "      <td>PT13M57S</td>\n",
       "      <td>2020-02-01T04:00:28Z</td>\n",
       "      <td>Interview Questions for SQL Joins and Subqueries</td>\n",
       "    </tr>\n",
       "    <tr>\n",
       "      <th>80</th>\n",
       "      <td>wW827gqxlRY</td>\n",
       "      <td>SQL Job Interview Mistakes #2</td>\n",
       "      <td>2019-09-15T16:21:16Z</td>\n",
       "      <td>983</td>\n",
       "      <td>21</td>\n",
       "      <td>0</td>\n",
       "      <td>0</td>\n",
       "      <td>false</td>\n",
       "      <td>StrataScratch</td>\n",
       "      <td>hd</td>\n",
       "      <td>We go over some of the common SQL job intervie...</td>\n",
       "      <td>PT9M39S</td>\n",
       "      <td>2019-09-15T16:21:16Z</td>\n",
       "      <td>SQL Job Interview Mistakes #2</td>\n",
       "    </tr>\n",
       "    <tr>\n",
       "      <th>81</th>\n",
       "      <td>xbc2GpGUXwc</td>\n",
       "      <td>SQL Job Interview Mistakes #1</td>\n",
       "      <td>2019-08-03T03:19:00Z</td>\n",
       "      <td>7672</td>\n",
       "      <td>69</td>\n",
       "      <td>0</td>\n",
       "      <td>1</td>\n",
       "      <td>false</td>\n",
       "      <td>StrataScratch</td>\n",
       "      <td>hd</td>\n",
       "      <td>We go over some of the common SQL job intervie...</td>\n",
       "      <td>PT7M29S</td>\n",
       "      <td>2019-08-03T03:19:00Z</td>\n",
       "      <td>SQL Job Interview Mistakes #1</td>\n",
       "    </tr>\n",
       "    <tr>\n",
       "      <th>82</th>\n",
       "      <td>n6gM265zG68</td>\n",
       "      <td>SQL Query Interview Questions And Answers From...</td>\n",
       "      <td>2019-06-26T15:28:15Z</td>\n",
       "      <td>40748</td>\n",
       "      <td>521</td>\n",
       "      <td>0</td>\n",
       "      <td>4</td>\n",
       "      <td>false</td>\n",
       "      <td>StrataScratch</td>\n",
       "      <td>hd</td>\n",
       "      <td>The start of our series on common SQL query in...</td>\n",
       "      <td>PT17M48S</td>\n",
       "      <td>2019-06-26T15:28:15Z</td>\n",
       "      <td>SQL Query Interview Questions And Answers From...</td>\n",
       "    </tr>\n",
       "  </tbody>\n",
       "</table>\n",
       "</div>"
      ],
      "text/plain": [
       "       video_id                                        video_title  \\\n",
       "78  UX4_IgagL9I  How to Use Google Colaboratory | Import a CSV ...   \n",
       "79  tDdo3FiWpgE   Interview Questions for SQL Joins and Subqueries   \n",
       "80  wW827gqxlRY                      SQL Job Interview Mistakes #2   \n",
       "81  xbc2GpGUXwc                      SQL Job Interview Mistakes #1   \n",
       "82  n6gM265zG68  SQL Query Interview Questions And Answers From...   \n",
       "\n",
       "             upload_date view_count like_count favorite_count comment_count  \\\n",
       "78  2020-05-02T15:29:16Z       1911         12              0             2   \n",
       "79  2020-02-01T04:00:28Z       1187         20              0             0   \n",
       "80  2019-09-15T16:21:16Z        983         21              0             0   \n",
       "81  2019-08-03T03:19:00Z       7672         69              0             1   \n",
       "82  2019-06-26T15:28:15Z      40748        521              0             4   \n",
       "\n",
       "   caption   channelTitle definition  \\\n",
       "78   false  StrataScratch         hd   \n",
       "79   false  StrataScratch         hd   \n",
       "80   false  StrataScratch         hd   \n",
       "81   false  StrataScratch         hd   \n",
       "82   false  StrataScratch         hd   \n",
       "\n",
       "                                          description  duration  \\\n",
       "78  In this video, I'll show you how to use Google...   PT8M34S   \n",
       "79  We are back with a video on SQL Joins and Subq...  PT13M57S   \n",
       "80  We go over some of the common SQL job intervie...   PT9M39S   \n",
       "81  We go over some of the common SQL job intervie...   PT7M29S   \n",
       "82  The start of our series on common SQL query in...  PT17M48S   \n",
       "\n",
       "             publishedAt                                              title  \n",
       "78  2020-05-02T15:29:16Z  How to Use Google Colaboratory | Import a CSV ...  \n",
       "79  2020-02-01T04:00:28Z   Interview Questions for SQL Joins and Subqueries  \n",
       "80  2019-09-15T16:21:16Z                      SQL Job Interview Mistakes #2  \n",
       "81  2019-08-03T03:19:00Z                      SQL Job Interview Mistakes #1  \n",
       "82  2019-06-26T15:28:15Z  SQL Query Interview Questions And Answers From...  "
      ]
     },
     "execution_count": 31,
     "metadata": {},
     "output_type": "execute_result"
    }
   ],
   "source": [
    "data.tail(5)"
   ]
  },
  {
   "cell_type": "code",
   "execution_count": null,
   "metadata": {},
   "outputs": [],
   "source": []
  },
  {
   "cell_type": "code",
   "execution_count": null,
   "metadata": {},
   "outputs": [],
   "source": []
  }
 ],
 "metadata": {
  "kernelspec": {
   "display_name": "Python 3",
   "language": "python",
   "name": "python3"
  },
  "language_info": {
   "codemirror_mode": {
    "name": "ipython",
    "version": 3
   },
   "file_extension": ".py",
   "mimetype": "text/x-python",
   "name": "python",
   "nbconvert_exporter": "python",
   "pygments_lexer": "ipython3",
   "version": "3.8.5"
  }
 },
 "nbformat": 4,
 "nbformat_minor": 4
}
